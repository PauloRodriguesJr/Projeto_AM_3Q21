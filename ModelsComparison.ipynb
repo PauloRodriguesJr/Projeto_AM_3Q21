{
  "nbformat": 4,
  "nbformat_minor": 0,
  "metadata": {
    "interpreter": {
      "hash": "d0f1ad4aa6fa1ca587eece29080af495b3eac88b2a6e3610cf30cdcc420705c5"
    },
    "kernelspec": {
      "display_name": "Python 3.7.10 64-bit ('ml': conda)",
      "name": "python3"
    },
    "language_info": {
      "codemirror_mode": {
        "name": "ipython",
        "version": 3
      },
      "file_extension": ".py",
      "mimetype": "text/x-python",
      "name": "python",
      "nbconvert_exporter": "python",
      "pygments_lexer": "ipython3",
      "version": "3.7.10"
    },
    "orig_nbformat": 4,
    "colab": {
      "name": "ModelsComparison.ipynb",
      "provenance": [],
      "collapsed_sections": []
    }
  },
  "cells": [
    {
      "cell_type": "code",
      "metadata": {
        "id": "TE46fyVBVxEt"
      },
      "source": [
        "import numpy as np\n",
        "import pandas as pd\n",
        "from copy import deepcopy           # Necessário para copiar os dados dentro de funções e evitar alterações inplace dos dados\n",
        "                                    # Isso para que as funções recebam um dado e gerem um dado novo, mantendo o original inalterado.\n",
        "import matplotlib.pyplot as plt\n",
        "import seaborn as sns\n",
        "\n",
        "from sklearn.preprocessing import OneHotEncoder\n",
        "from sklearn.model_selection import train_test_split\n",
        "\n",
        "from imblearn.over_sampling import SMOTE, SMOTENC\n",
        "from imblearn.pipeline import Pipeline\n",
        "from imblearn.under_sampling import RandomUnderSampler\n",
        "\n",
        "\n",
        "\n",
        "\n",
        "# TODO: converter para um arquivo requirements.txt \n",
        "# !pip install -U imbalanced-learn\n",
        "# !pip install pandas\n",
        "# !pip install numpy\n",
        "# !pip install -U scikit-learn\n",
        "# !pip install seaborn"
      ],
      "execution_count": null,
      "outputs": []
    },
    {
      "cell_type": "code",
      "metadata": {
        "id": "hSTT4Ck-VxEx"
      },
      "source": [
        "DATA_PATH = 'dados/dados_treino.csv'\n",
        "\n",
        "raw_data = pd.read_csv(DATA_PATH)"
      ],
      "execution_count": null,
      "outputs": []
    },
    {
      "cell_type": "code",
      "metadata": {
        "colab": {
          "base_uri": "https://localhost:8080/"
        },
        "id": "RtWRn_wtVxEy",
        "outputId": "db8f9140-2a99-4849-832f-9092f9539f6f"
      },
      "source": [
        "raw_data.info()    # Informaçãões gerais do dataset. Permite ver se há valores NULL."
      ],
      "execution_count": null,
      "outputs": [
        {
          "output_type": "stream",
          "name": "stdout",
          "text": [
            "<class 'pandas.core.frame.DataFrame'>\n",
            "RangeIndex: 4975 entries, 0 to 4974\n",
            "Data columns (total 20 columns):\n",
            " #   Column                          Non-Null Count  Dtype  \n",
            "---  ------                          --------------  -----  \n",
            " 0   bateria                         4975 non-null   object \n",
            " 1   Tem_Instr_Violao_Viola          4975 non-null   bool   \n",
            " 2   Tem_Instr_Guitarra              4975 non-null   bool   \n",
            " 3   Tem_Instr_Cavaco                4975 non-null   bool   \n",
            " 4   Tem_Instr_Sintetizador_Teclado  4975 non-null   bool   \n",
            " 5   Tem_Instr_Piano                 4975 non-null   bool   \n",
            " 6   Tem_Instr_Metais                4975 non-null   bool   \n",
            " 7   Tem_Instr_Madeiras              4975 non-null   bool   \n",
            " 8   Tem_Instr_Cordas                4975 non-null   bool   \n",
            " 9   BPM                             4975 non-null   float64\n",
            " 10  VolMedio                        4975 non-null   float64\n",
            " 11  PctCantada                      4975 non-null   float64\n",
            " 12  PctRap                          4975 non-null   float64\n",
            " 13  duracao                         4975 non-null   int64  \n",
            " 14  ano_lancamento                  4975 non-null   int64  \n",
            " 15  modo                            4542 non-null   object \n",
            " 16  gostou                          4975 non-null   bool   \n",
            " 17  data_curtida                    4975 non-null   object \n",
            " 18  n_reproducao                    4975 non-null   int64  \n",
            " 19  id_cliente                      4975 non-null   object \n",
            "dtypes: bool(9), float64(4), int64(3), object(4)\n",
            "memory usage: 471.4+ KB\n"
          ]
        }
      ]
    },
    {
      "cell_type": "code",
      "metadata": {
        "colab": {
          "base_uri": "https://localhost:8080/"
        },
        "id": "Yt01m_ukVxEz",
        "outputId": "b8167b92-ec5d-4fc3-a1ec-0cb5309c4634"
      },
      "source": [
        "raw_data.drop_duplicates().info()"
      ],
      "execution_count": null,
      "outputs": [
        {
          "output_type": "stream",
          "name": "stdout",
          "text": [
            "<class 'pandas.core.frame.DataFrame'>\n",
            "Int64Index: 4975 entries, 0 to 4974\n",
            "Data columns (total 20 columns):\n",
            " #   Column                          Non-Null Count  Dtype  \n",
            "---  ------                          --------------  -----  \n",
            " 0   bateria                         4975 non-null   object \n",
            " 1   Tem_Instr_Violao_Viola          4975 non-null   bool   \n",
            " 2   Tem_Instr_Guitarra              4975 non-null   bool   \n",
            " 3   Tem_Instr_Cavaco                4975 non-null   bool   \n",
            " 4   Tem_Instr_Sintetizador_Teclado  4975 non-null   bool   \n",
            " 5   Tem_Instr_Piano                 4975 non-null   bool   \n",
            " 6   Tem_Instr_Metais                4975 non-null   bool   \n",
            " 7   Tem_Instr_Madeiras              4975 non-null   bool   \n",
            " 8   Tem_Instr_Cordas                4975 non-null   bool   \n",
            " 9   BPM                             4975 non-null   float64\n",
            " 10  VolMedio                        4975 non-null   float64\n",
            " 11  PctCantada                      4975 non-null   float64\n",
            " 12  PctRap                          4975 non-null   float64\n",
            " 13  duracao                         4975 non-null   int64  \n",
            " 14  ano_lancamento                  4975 non-null   int64  \n",
            " 15  modo                            4542 non-null   object \n",
            " 16  gostou                          4975 non-null   bool   \n",
            " 17  data_curtida                    4975 non-null   object \n",
            " 18  n_reproducao                    4975 non-null   int64  \n",
            " 19  id_cliente                      4975 non-null   object \n",
            "dtypes: bool(9), float64(4), int64(3), object(4)\n",
            "memory usage: 510.1+ KB\n"
          ]
        }
      ]
    },
    {
      "cell_type": "code",
      "metadata": {
        "colab": {
          "base_uri": "https://localhost:8080/",
          "height": 226
        },
        "id": "olFfWebiVxEz",
        "outputId": "193e8baa-ac96-4d55-daf5-34ccde27754c"
      },
      "source": [
        "raw_data.head()"
      ],
      "execution_count": null,
      "outputs": [
        {
          "output_type": "execute_result",
          "data": {
            "text/html": [
              "<div>\n",
              "<style scoped>\n",
              "    .dataframe tbody tr th:only-of-type {\n",
              "        vertical-align: middle;\n",
              "    }\n",
              "\n",
              "    .dataframe tbody tr th {\n",
              "        vertical-align: top;\n",
              "    }\n",
              "\n",
              "    .dataframe thead th {\n",
              "        text-align: right;\n",
              "    }\n",
              "</style>\n",
              "<table border=\"1\" class=\"dataframe\">\n",
              "  <thead>\n",
              "    <tr style=\"text-align: right;\">\n",
              "      <th></th>\n",
              "      <th>bateria</th>\n",
              "      <th>Tem_Instr_Violao_Viola</th>\n",
              "      <th>Tem_Instr_Guitarra</th>\n",
              "      <th>Tem_Instr_Cavaco</th>\n",
              "      <th>Tem_Instr_Sintetizador_Teclado</th>\n",
              "      <th>Tem_Instr_Piano</th>\n",
              "      <th>Tem_Instr_Metais</th>\n",
              "      <th>Tem_Instr_Madeiras</th>\n",
              "      <th>Tem_Instr_Cordas</th>\n",
              "      <th>BPM</th>\n",
              "      <th>VolMedio</th>\n",
              "      <th>PctCantada</th>\n",
              "      <th>PctRap</th>\n",
              "      <th>duracao</th>\n",
              "      <th>ano_lancamento</th>\n",
              "      <th>modo</th>\n",
              "      <th>gostou</th>\n",
              "      <th>data_curtida</th>\n",
              "      <th>n_reproducao</th>\n",
              "      <th>id_cliente</th>\n",
              "    </tr>\n",
              "  </thead>\n",
              "  <tbody>\n",
              "    <tr>\n",
              "      <th>0</th>\n",
              "      <td>Acústica</td>\n",
              "      <td>False</td>\n",
              "      <td>True</td>\n",
              "      <td>False</td>\n",
              "      <td>False</td>\n",
              "      <td>True</td>\n",
              "      <td>False</td>\n",
              "      <td>False</td>\n",
              "      <td>False</td>\n",
              "      <td>128.652946</td>\n",
              "      <td>-8.743969</td>\n",
              "      <td>38.671394</td>\n",
              "      <td>0.0</td>\n",
              "      <td>680510</td>\n",
              "      <td>1977</td>\n",
              "      <td>NaN</td>\n",
              "      <td>False</td>\n",
              "      <td>2021-07-29</td>\n",
              "      <td>5</td>\n",
              "      <td>#ID4940</td>\n",
              "    </tr>\n",
              "    <tr>\n",
              "      <th>1</th>\n",
              "      <td>Acústica</td>\n",
              "      <td>True</td>\n",
              "      <td>False</td>\n",
              "      <td>True</td>\n",
              "      <td>False</td>\n",
              "      <td>False</td>\n",
              "      <td>False</td>\n",
              "      <td>False</td>\n",
              "      <td>False</td>\n",
              "      <td>107.679121</td>\n",
              "      <td>-12.128194</td>\n",
              "      <td>75.739791</td>\n",
              "      <td>0.0</td>\n",
              "      <td>195746</td>\n",
              "      <td>2014</td>\n",
              "      <td>f</td>\n",
              "      <td>False</td>\n",
              "      <td>2021-07-29</td>\n",
              "      <td>5</td>\n",
              "      <td>#ID4940</td>\n",
              "    </tr>\n",
              "    <tr>\n",
              "      <th>2</th>\n",
              "      <td>Nenhuma</td>\n",
              "      <td>False</td>\n",
              "      <td>True</td>\n",
              "      <td>False</td>\n",
              "      <td>False</td>\n",
              "      <td>True</td>\n",
              "      <td>True</td>\n",
              "      <td>False</td>\n",
              "      <td>False</td>\n",
              "      <td>117.885751</td>\n",
              "      <td>-10.880246</td>\n",
              "      <td>35.978128</td>\n",
              "      <td>0.0</td>\n",
              "      <td>413618</td>\n",
              "      <td>1968</td>\n",
              "      <td>D#</td>\n",
              "      <td>False</td>\n",
              "      <td>2021-07-29</td>\n",
              "      <td>4</td>\n",
              "      <td>#ID4940</td>\n",
              "    </tr>\n",
              "    <tr>\n",
              "      <th>3</th>\n",
              "      <td>Acústica</td>\n",
              "      <td>False</td>\n",
              "      <td>True</td>\n",
              "      <td>False</td>\n",
              "      <td>False</td>\n",
              "      <td>True</td>\n",
              "      <td>True</td>\n",
              "      <td>True</td>\n",
              "      <td>False</td>\n",
              "      <td>119.309408</td>\n",
              "      <td>-12.489925</td>\n",
              "      <td>45.763376</td>\n",
              "      <td>0.0</td>\n",
              "      <td>749101</td>\n",
              "      <td>1963</td>\n",
              "      <td>D#</td>\n",
              "      <td>True</td>\n",
              "      <td>2021-07-29</td>\n",
              "      <td>3</td>\n",
              "      <td>#ID4940</td>\n",
              "    </tr>\n",
              "    <tr>\n",
              "      <th>4</th>\n",
              "      <td>Eletrônica</td>\n",
              "      <td>False</td>\n",
              "      <td>False</td>\n",
              "      <td>False</td>\n",
              "      <td>True</td>\n",
              "      <td>True</td>\n",
              "      <td>False</td>\n",
              "      <td>False</td>\n",
              "      <td>False</td>\n",
              "      <td>153.488568</td>\n",
              "      <td>-6.412484</td>\n",
              "      <td>58.979747</td>\n",
              "      <td>0.0</td>\n",
              "      <td>168978</td>\n",
              "      <td>2020</td>\n",
              "      <td>c</td>\n",
              "      <td>False</td>\n",
              "      <td>2021-07-29</td>\n",
              "      <td>2</td>\n",
              "      <td>#ID4940</td>\n",
              "    </tr>\n",
              "  </tbody>\n",
              "</table>\n",
              "</div>"
            ],
            "text/plain": [
              "      bateria  Tem_Instr_Violao_Viola  ...  n_reproducao  id_cliente\n",
              "0    Acústica                   False  ...             5     #ID4940\n",
              "1    Acústica                    True  ...             5     #ID4940\n",
              "2     Nenhuma                   False  ...             4     #ID4940\n",
              "3    Acústica                   False  ...             3     #ID4940\n",
              "4  Eletrônica                   False  ...             2     #ID4940\n",
              "\n",
              "[5 rows x 20 columns]"
            ]
          },
          "metadata": {},
          "execution_count": 29
        }
      ]
    },
    {
      "cell_type": "code",
      "metadata": {
        "colab": {
          "base_uri": "https://localhost:8080/"
        },
        "id": "773xG-OfVxE0",
        "outputId": "d77f4de7-9ec0-4037-b474-6839b67ca4f8"
      },
      "source": [
        "# Dataset de referencia:\n",
        "import sklearn.datasets\n",
        "from sklearn import preprocessing\n",
        "X,y = sklearn.datasets.load_boston(return_X_y=True)"
      ],
      "execution_count": null,
      "outputs": [
        {
          "output_type": "stream",
          "name": "stderr",
          "text": [
            "/usr/local/lib/python3.7/dist-packages/sklearn/utils/deprecation.py:87: FutureWarning: Function load_boston is deprecated; `load_boston` is deprecated in 1.0 and will be removed in 1.2.\n",
            "\n",
            "    The Boston housing prices dataset has an ethical problem. You can refer to\n",
            "    the documentation of this function for further details.\n",
            "\n",
            "    The scikit-learn maintainers therefore strongly discourage the use of this\n",
            "    dataset unless the purpose of the code is to study and educate about\n",
            "    ethical issues in data science and machine learning.\n",
            "\n",
            "    In this special case, you can fetch the dataset from the original\n",
            "    source::\n",
            "\n",
            "        import pandas as pd\n",
            "        import numpy as np\n",
            "\n",
            "\n",
            "        data_url = \"http://lib.stat.cmu.edu/datasets/boston\"\n",
            "        raw_df = pd.read_csv(data_url, sep=\"\\s+\", skiprows=22, header=None)\n",
            "        data = np.hstack([raw_df.values[::2, :], raw_df.values[1::2, :2]])\n",
            "        target = raw_df.values[1::2, 2]\n",
            "\n",
            "    Alternative datasets include the California housing dataset (i.e.\n",
            "    :func:`~sklearn.datasets.fetch_california_housing`) and the Ames housing\n",
            "    dataset. You can load the datasets as follows::\n",
            "\n",
            "        from sklearn.datasets import fetch_california_housing\n",
            "        housing = fetch_california_housing()\n",
            "\n",
            "    for the California housing dataset and::\n",
            "\n",
            "        from sklearn.datasets import fetch_openml\n",
            "        housing = fetch_openml(name=\"house_prices\", as_frame=True)\n",
            "\n",
            "    for the Ames housing dataset.\n",
            "    \n",
            "  warnings.warn(msg, category=FutureWarning)\n"
          ]
        }
      ]
    },
    {
      "cell_type": "code",
      "metadata": {
        "colab": {
          "base_uri": "https://localhost:8080/"
        },
        "id": "DkxSw3kFVxE0",
        "outputId": "66f43bbc-daef-4a87-db43-5d9344f4038f"
      },
      "source": [
        "print(type(X))"
      ],
      "execution_count": null,
      "outputs": [
        {
          "output_type": "stream",
          "name": "stdout",
          "text": [
            "<class 'numpy.ndarray'>\n"
          ]
        }
      ]
    },
    {
      "cell_type": "markdown",
      "metadata": {
        "id": "ZI0oGowtVxE1"
      },
      "source": [
        "## OBS: Essa classe está em construção e deve ser adequada antes de seu uso! No momento está feita praticamente como um aglomerado de funções"
      ]
    },
    {
      "cell_type": "code",
      "metadata": {
        "id": "SwTxtInIVxE2"
      },
      "source": [
        "class Preprocessor():\n",
        "    '''\n",
        "        Saída final esperada: um dicionário com as saídas \n",
        "    '''\n",
        "        # colocar as variáveis de interesse da classe:\n",
        "        # especialmente o dataframe base, e dados de trabalho\n",
        "    def __init__(self):\n",
        "        # colocar as variáveis de interesse da classe:\n",
        "        # especialmente o dataframe de entrada\n",
        "        pass\n",
        "\n",
        "    def _bool_to_int(self, dataframe: pd.DataFrame) -> pd.DataFrame:\n",
        "        '''\n",
        "        \n",
        "        Converte as colunas do tipo bool para o tipo int (0 e 1).\n",
        "        \n",
        "        '''\n",
        "        columns = ['Tem_Instr_Violao_Viola', 'Tem_Instr_Guitarra', 'Tem_Instr_Cavaco', \n",
        "                'Tem_Instr_Sintetizador_Teclado', 'Tem_Instr_Piano', 'Tem_Instr_Metais', \n",
        "                'Tem_Instr_Madeiras', 'Tem_Instr_Cordas', 'gostou']                      # Adicionar as colunas da bateria aqui depois\n",
        "        new_df = deepcopy(dataframe)\n",
        "        \n",
        "        for col in columns:\n",
        "            new_df[col] = new_df[col].astype(int)\n",
        "            \n",
        "        return new_df\n",
        "    \n",
        "    def _bateria_to_bool(self, dataframe: pd.DataFrame) -> pd.DataFrame:\n",
        "        '''\n",
        "        \n",
        "        Transforma a coluna bateria para ser representada por binários\n",
        "        Essa função pode ser modificada para processar a coluna bateria de formas distintas.\n",
        "        \n",
        "        '''\n",
        "        new_df = deepcopy(dataframe)\n",
        "        new_df['bateria_eletronica'] = (new_df['bateria'] == 'Eletrônica').astype(int)\n",
        "        new_df['bateria_acustica']   = (new_df['bateria'] == 'Acústica').astype(int)\n",
        "        new_df['bateria_nenhuma']     = (new_df['bateria'] == 'Nenhuma').astype(int)\n",
        "        new_df = new_df.drop(columns = ['bateria'])\n",
        "        return new_df\n",
        "\n",
        "    def _get_user_data(self, USER: str, raw_data: pd.DataFrame) -> pd.DataFrame:\n",
        "        user_data = raw_data[raw_data['id_cliente'] == USER]\n",
        "        user_data = bool_to_int(user_data)\n",
        "        user_data = bateria_to_bool(user_data)\n",
        "        user_data['modo'] = user_data['modo'].fillna(\"K\")\n",
        "        \n",
        "        return user_data\n",
        "    \n",
        "    def scale_to_bool(self,scale):\n",
        "        string = {\n",
        "            'K'  : 1,\n",
        "            'c'  : 0,\n",
        "            'c#' : 0, \n",
        "            'C'  : 1,\n",
        "            'C#' : 1,\n",
        "            'd'  : 0,\n",
        "            'd#' : 0,\n",
        "            'D'  : 1,\n",
        "            'D#' : 1,\n",
        "            'e'  : 0,\n",
        "            'E'  : 1,\n",
        "            'f'  : 0,\n",
        "            'f#' : 0,\n",
        "            'F'  : 1,\n",
        "            'F#' : 1,\n",
        "            'g'  : 0,\n",
        "            'g#' : 0,\n",
        "            'G'  : 1,\n",
        "            'G#' : 1,\n",
        "            'a'  : 0,\n",
        "            'a#' : 0,\n",
        "            'A'  : 1,\n",
        "            'A#' : 1,\n",
        "            'b'  : 0,\n",
        "            'B'  : 1\n",
        "        }[scale]\n",
        "        return string\n",
        "\n",
        "\n",
        "    def scale_to_one_hot(self, raw_data: pd.DataFrame):\n",
        "    # One hot encoding the mode feature data\n",
        "        new_df = deepcopy(raw_data)\n",
        "        mode_df = pd.get_dummies(new_df[\"modo\"])\n",
        "        new_df = new_df.drop(columns = ['modo'])\n",
        "        # new_df.merge(mode_df,how='left', on='duracao')\n",
        "        #  Place the DataFrames side by side\n",
        "        new_df = pd.concat([new_df,mode_df], axis=1)\n",
        "        return new_df\n",
        "\n",
        "def preprocess(self):    \n",
        "    '''\n",
        "        Aplica todas as estratégias de preprocessamento para adequar à estrutura entendida pelo sklearn\n",
        "    '''\n",
        "    \n",
        "    raw_data = pd.read_csv(DATA_PATH)\n",
        "    raw_data['PctCantada'] = raw_data['PctCantada'] / 100\n",
        "    raw_data['PctRap'] = raw_data['PctRap'] / 100\n",
        "    raw_data['duracao'] = raw_data['duracao'] / (60*1000)\n",
        "    raw_data['VolMedio'] = raw_data['VolMedio'].abs()\n",
        "    raw_data['duracao']  = raw_data['duracao'].abs()\n",
        "    raw_data['modo'] = raw_data['modo'].fillna('K')\n",
        "    raw_data['escala_maior'] = raw_data['modo'].apply((lambda mode: scale_to_bool(mode)))\n",
        "    # raw_data['modo'] = raw_data['modo'].apply((lambda mode: scale_to_bool(mode)))\n",
        "    raw_data = bool_to_int(raw_data)\n",
        "    raw_data = bateria_to_bool(raw_data)\n",
        "\n",
        "    raw_data = scale_to_one_hot(raw_data) # Não gostei muito da solução, mas até faz sentido\n",
        "    print(raw_data)\n",
        "\n",
        "    def filter_user(self, user):\n",
        "        user_data = raw_data[raw_data['id_cliente'] == USER]\n",
        "        # definir melhor a interface\n",
        "\n",
        "    def train_test_split(self): #adicionar parametros de entrada\n",
        "        input_data = user_data.drop(columns = [\"data_curtida\", \"id_cliente\"])[user_data['id_cliente'] == USER]\n",
        "        # X = (.to_numpy()\n",
        "        X = input_data.drop(columns = [\"gostou\"]).to_numpy()\n",
        "        Y = input_data[\"gostou\"].to_numpy()\n",
        "        Y = Y.ravel()\n",
        "        print(Y.shape)\n",
        "        print(X.shape)\n",
        "        X_train, X_test, y_train, y_test = train_test_split(X, Y, test_size=0.2,random_state=109) # 70% training and 30% testv\n",
        "        return X_train, X_test, y_train, y_test \n",
        "    \n",
        "    def SMOTE_oversampling(self):\n",
        "    # colocar uns parametros uteis de entrada\n",
        "        # Teste do SMOTE\n",
        "        # sm = SMOTE(random_state=42)\n",
        "        # X_train_res, Y_train_res = sm.fit_resample(X_train, y_train)\n",
        "\n",
        "        a = np.arange(0,8)\n",
        "        b = np.array([11])\n",
        "        c = np.arange(15,44)\n",
        "        categorical_index = np.concatenate([a,c])\n",
        "        categorical_index = np.concatenate([categorical_index,b])\n",
        "        categorical_index = list(categorical_index)\n",
        "\n",
        "        # Teste SMOTE-NC\n",
        "        smote_nc_over = SMOTENC(categorical_features=categorical_index, random_state=0)\n",
        "\n",
        "        under = RandomUnderSampler(sampling_strategy='majority',random_state=0)\n",
        "\n",
        "        steps = [('o', smote_nc_over), ('u', under)]\n",
        "        pipeline = Pipeline(steps=steps)\n",
        "\n",
        "        X_train_res, Y_train_res = pipeline.fit_resample(X_train, y_train)\n",
        "\n",
        "        # X_train_res, Y_train_res = smote_nc_over.fit_resample(X_train, y_train)\n",
        "\n",
        "    def check_balancing(self):\n",
        "        ## Count elements\n",
        "        count_plus = 0\n",
        "        count_minus = 0\n",
        "\n",
        "        for y_val in Y_train_res:\n",
        "            \n",
        "            if y_val == 1:\n",
        "                count_plus +=1\n",
        "            else: \n",
        "                count_minus +=1\n",
        "        print(\"Positive examples:\",count_plus)\n",
        "        print(\"Negative examples:\",count_minus)\n",
        "\n",
        "# Talvez criar um método que aplique todos os passos pra evitar linhas de código -> Mas acho que será só isso o dataset, não deve haver problemas extras"
      ],
      "execution_count": null,
      "outputs": []
    },
    {
      "cell_type": "code",
      "metadata": {
        "id": "Glmh5Sr2VxE4"
      },
      "source": [
        "# enc = preprocessing.OneHotEncoder()\n",
        "# X = [['male', 'from US', 'uses Safari'], ['female', 'from Europe', 'uses Firefox']]\n",
        "# enc.fit(X)\n",
        "\n",
        "# transform = enc.transform([['female', 'from US', 'uses Safari'],\n",
        "#                ['male', 'from Europe', 'uses Safari']]).toarray()\n",
        "# print(X)\n",
        "# print(transform)"
      ],
      "execution_count": null,
      "outputs": []
    },
    {
      "cell_type": "code",
      "metadata": {
        "id": "_qgESzXVVxE5"
      },
      "source": [
        "columns = ['Tem_Instr_Violao_Viola', 'Tem_Instr_Guitarra', 'Tem_Instr_Cavaco', \n",
        "           'Tem_Instr_Sintetizador_Teclado', 'Tem_Instr_Piano', 'Tem_Instr_Metais', \n",
        "           'Tem_Instr_Madeiras', 'Tem_Instr_Cordas', 'c' ,'K' ,'c#','C' ,'C#','d' ,'d#','D' ,'D#','e' ,'E' ,'f' ,'f#','F' ,'F#','g' ,'g#','G' ,'G#','a' ,'a#','A' ,'A#','B' ,'b'] "
      ],
      "execution_count": null,
      "outputs": []
    },
    {
      "cell_type": "code",
      "metadata": {
        "id": "sd5RekVIVxE5"
      },
      "source": [
        "# métodos já implementados\n",
        "def bool_to_int(dataframe: pd.DataFrame) -> pd.DataFrame:\n",
        "    '''\n",
        "    \n",
        "    Converte as colunas do tipo bool para o tipo int (0 e 1).\n",
        "    \n",
        "    '''\n",
        "    columns = ['Tem_Instr_Violao_Viola', 'Tem_Instr_Guitarra', 'Tem_Instr_Cavaco', \n",
        "               'Tem_Instr_Sintetizador_Teclado', 'Tem_Instr_Piano', 'Tem_Instr_Metais', \n",
        "               'Tem_Instr_Madeiras', 'Tem_Instr_Cordas', 'gostou']                      # Adicionar as colunas da bateria aqui depois\n",
        "    new_df = deepcopy(dataframe)\n",
        "    \n",
        "    for col in columns:\n",
        "        new_df[col] = new_df[col].astype(int)\n",
        "        \n",
        "    return new_df\n",
        "\n",
        "def bateria_to_bool(dataframe: pd.DataFrame) -> pd.DataFrame:\n",
        "    '''\n",
        "    \n",
        "    Transforma a coluna bateria para ser representada por binários\n",
        "    Essa função pode ser modificada para processar a coluna bateria de formas distintas.\n",
        "    \n",
        "    '''\n",
        "    new_df = deepcopy(dataframe)\n",
        "    new_df['bateria_eletronica'] = (new_df['bateria'] == 'Eletrônica').astype(int)\n",
        "    new_df['bateria_acustica']   = (new_df['bateria'] == 'Acústica').astype(int)\n",
        "    new_df['bateria_nenhuma']     = (new_df['bateria'] == 'Nenhuma').astype(int)\n",
        "    new_df = new_df.drop(columns = ['bateria'])\n",
        "    return new_df\n",
        "\n",
        "def get_user_data(USER: str, raw_data: pd.DataFrame) -> pd.DataFrame:\n",
        "    user_data = raw_data[raw_data['id_cliente'] == USER]\n",
        "    user_data = bool_to_int(user_data)\n",
        "    user_data = bateria_to_bool(user_data)\n",
        "    user_data['modo'] = user_data['modo'].fillna(\"K\")\n",
        "    \n",
        "    return user_data\n",
        "\n",
        "# métodos da analise exploratoria"
      ],
      "execution_count": null,
      "outputs": []
    },
    {
      "cell_type": "code",
      "metadata": {
        "id": "y6FVKp3tVxE6"
      },
      "source": [
        "def scale_to_bool(scale):\n",
        "    string = {\n",
        "        'K'  : 1,\n",
        "        'c'  : 0,\n",
        "        'c#' : 0, \n",
        "        'C'  : 1,\n",
        "        'C#' : 1,\n",
        "        'd'  : 0,\n",
        "        'd#' : 0,\n",
        "        'D'  : 1,\n",
        "        'D#' : 1,\n",
        "        'e'  : 0,\n",
        "        'E'  : 1,\n",
        "        'f'  : 0,\n",
        "        'f#' : 0,\n",
        "        'F'  : 1,\n",
        "        'F#' : 1,\n",
        "        'g'  : 0,\n",
        "        'g#' : 0,\n",
        "        'G'  : 1,\n",
        "        'G#' : 1,\n",
        "        'a'  : 0,\n",
        "        'a#' : 0,\n",
        "        'A'  : 1,\n",
        "        'A#' : 1,\n",
        "        'b'  : 0,\n",
        "        'B'  : 1\n",
        "    }[scale]\n",
        "    return string"
      ],
      "execution_count": null,
      "outputs": []
    },
    {
      "cell_type": "code",
      "metadata": {
        "id": "6Ra4l5IWVxE6"
      },
      "source": [
        "# One hot encoding the mode feature data:\n",
        "\n",
        "def scale_to_one_hot(raw_data: pd.DataFrame):\n",
        "    new_df = deepcopy(raw_data)\n",
        "    mode_df = pd.get_dummies(new_df[\"modo\"])\n",
        "    new_df = new_df.drop(columns = ['modo'])\n",
        "    # new_df.merge(mode_df,how='left', on='duracao')\n",
        "    #  Place the DataFrames side by side\n",
        "    new_df = pd.concat([new_df,mode_df], axis=1)\n",
        "    return new_df"
      ],
      "execution_count": null,
      "outputs": []
    },
    {
      "cell_type": "code",
      "metadata": {
        "colab": {
          "base_uri": "https://localhost:8080/"
        },
        "id": "jBiPuaANVxE6",
        "outputId": "4170bcc2-84d5-470c-cdf4-0ad6bd9c069d"
      },
      "source": [
        "raw_data = pd.read_csv(DATA_PATH)\n",
        "raw_data['PctCantada'] = raw_data['PctCantada'] / 100\n",
        "raw_data['PctRap'] = raw_data['PctRap'] / 100\n",
        "raw_data['duracao'] = raw_data['duracao'] / (60*1000)\n",
        "raw_data['VolMedio'] = raw_data['VolMedio'].abs()\n",
        "raw_data['duracao']  = raw_data['duracao'].abs()\n",
        "raw_data['modo'] = raw_data['modo'].fillna('K')\n",
        "raw_data['escala_maior'] = raw_data['modo'].apply((lambda mode: scale_to_bool(mode)))\n",
        "# raw_data['modo'] = raw_data['modo'].apply((lambda mode: scale_to_bool(mode)))\n",
        "raw_data = bool_to_int(raw_data)\n",
        "raw_data = bateria_to_bool(raw_data)\n",
        "\n",
        "raw_data = scale_to_one_hot(raw_data) # Não gostei muito da solução, mas até faz sentido\n",
        "print(raw_data)"
      ],
      "execution_count": null,
      "outputs": [
        {
          "output_type": "stream",
          "name": "stdout",
          "text": [
            "      Tem_Instr_Violao_Viola  Tem_Instr_Guitarra  Tem_Instr_Cavaco  ...  f#  g  g#\n",
            "0                          0                   1                 0  ...   0  0   0\n",
            "1                          1                   0                 1  ...   0  0   0\n",
            "2                          0                   1                 0  ...   0  0   0\n",
            "3                          0                   1                 0  ...   0  0   0\n",
            "4                          0                   0                 0  ...   0  0   0\n",
            "...                      ...                 ...               ...  ...  .. ..  ..\n",
            "4970                       1                   0                 0  ...   0  0   0\n",
            "4971                       1                   0                 1  ...   0  0   0\n",
            "4972                       0                   0                 0  ...   0  0   0\n",
            "4973                       1                   1                 0  ...   0  0   0\n",
            "4974                       0                   0                 0  ...   0  0   0\n",
            "\n",
            "[4975 rows x 47 columns]\n"
          ]
        }
      ]
    },
    {
      "cell_type": "code",
      "metadata": {
        "id": "iTjiq31RVxE7"
      },
      "source": [
        "USER = '#ID9181'\n",
        "# USER = '#ID4940'\n",
        "\n",
        "user_data = raw_data[raw_data['id_cliente'] == USER]"
      ],
      "execution_count": null,
      "outputs": []
    },
    {
      "cell_type": "code",
      "metadata": {
        "colab": {
          "base_uri": "https://localhost:8080/"
        },
        "id": "fyXc1sIJVxE7",
        "outputId": "b366e8d2-3e2e-429f-b30e-bf28ab7e0c4e"
      },
      "source": [
        "input_data = user_data.drop(columns = [\"data_curtida\", \"id_cliente\"])[user_data['id_cliente'] == USER]\n",
        "# X = (.to_numpy()\n",
        "X = input_data.drop(columns = [\"gostou\"]).to_numpy()\n",
        "Y = input_data[\"gostou\"].to_numpy()\n",
        "Y = Y.ravel()\n",
        "print(Y.shape)\n",
        "print(X.shape)"
      ],
      "execution_count": null,
      "outputs": [
        {
          "output_type": "stream",
          "name": "stdout",
          "text": [
            "(2403,)\n",
            "(2403, 44)\n"
          ]
        }
      ]
    },
    {
      "cell_type": "code",
      "metadata": {
        "id": "9hZRWVtNVxE7"
      },
      "source": [
        "from sklearn.model_selection import train_test_split\n",
        "from sklearn.neural_network import MLPClassifier\n",
        "X_train, X_test, y_train, y_test = train_test_split(X, Y, test_size=0.2,random_state=109) # 70% training and 30% testv"
      ],
      "execution_count": null,
      "outputs": []
    },
    {
      "cell_type": "code",
      "metadata": {
        "colab": {
          "base_uri": "https://localhost:8080/"
        },
        "id": "GGFFhHhcVxE8",
        "outputId": "f43dbf75-b70f-4330-cc53-1a498d6397bb"
      },
      "source": [
        "# Teste do SMOTE\n",
        "# sm = SMOTE(random_state=42)\n",
        "# X_train_res, Y_train_res = sm.fit_resample(X_train, y_train)\n",
        "\n",
        "from imblearn.pipeline import Pipeline\n",
        "from imblearn.under_sampling import RandomUnderSampler\n",
        "\n",
        "a = np.arange(0,8)\n",
        "b = np.array([11])\n",
        "c = np.arange(15,44)\n",
        "categorical_index = np.concatenate([a,c])\n",
        "categorical_index = np.concatenate([categorical_index,b])\n",
        "categorical_index = list(categorical_index)\n",
        "\n",
        "# Teste SMOTE-NC\n",
        "smote_nc_over = SMOTENC(categorical_features=categorical_index, random_state=0)\n",
        "\n",
        "under = RandomUnderSampler(sampling_strategy='majority',random_state=0)\n",
        "\n",
        "steps = [('o', smote_nc_over), ('u', under)]\n",
        "pipeline = Pipeline(steps=steps)\n",
        "\n",
        "X_train_res, Y_train_res = pipeline.fit_resample(X_train, y_train)\n",
        "\n",
        "# X_train_res, Y_train_res = smote_nc_over.fit_resample(X_train, y_train)\n",
        "\n",
        "# Checar se o dataset ficou balanceado\n",
        "count_plus = 0\n",
        "count_minus = 0\n",
        "\n",
        "for y_val in Y_train_res:\n",
        "    \n",
        "    if y_val == 1:\n",
        "         count_plus +=1\n",
        "    else: \n",
        "         count_minus +=1\n",
        "print(\"Positive examples:\",count_plus)\n",
        "print(\"Negative examples:\",count_minus)\n",
        "\n"
      ],
      "execution_count": null,
      "outputs": [
        {
          "output_type": "stream",
          "name": "stdout",
          "text": [
            "Positive examples: 1635\n",
            "Negative examples: 1635\n"
          ]
        }
      ]
    },
    {
      "cell_type": "markdown",
      "metadata": {
        "id": "Gt9zICeoVxE8"
      },
      "source": [
        "## Testando um classificador para ver se a estrutura do dataset ficou correta"
      ]
    },
    {
      "cell_type": "code",
      "metadata": {
        "id": "w28U17_MU1wh"
      },
      "source": [
        "def run_model(dic, model, X_train, X_test, y_train, y_test):\n",
        "  model.fit(X_train, y_train)\n",
        "  y_pred = model.predict(X_test)\n",
        "\n",
        "  dic[str(model)[:-2]] = {}\n",
        "\n",
        "  accuracy, precision, recall, f1 = evaluate_model(y_test, y_pred)\n",
        "  plot_auc(y_test, y_pred, str(model)[:-2])\n",
        "\n",
        "  dic[str(model)[:-2]]['accuracy'] = accuracy\n",
        "  dic[str(model)[:-2]]['precision'] = precision\n",
        "  dic[str(model)[:-2]]['recall'] = recall\n",
        "  dic[str(model)[:-2]]['f1'] = f1\n",
        "\n",
        "  return dic\n",
        "\n",
        "def evaluate_model(y_test, y_pred):\n",
        "  accuracy = metrics.accuracy_score(y_test, y_pred)\n",
        "  precision = metrics.precision_score(y_test, y_pred)\n",
        "  recall = metrics.recall_score(y_test, y_pred)\n",
        "  f1 = metrics.f1_score(y_test, y_pred)\n",
        "\n",
        "  return accuracy, precision, recall, f1\n",
        "\n",
        "def plot_auc(y_test, y_pred, model_name):\n",
        "\n",
        "    fpr, tpr, thresholds = metrics.roc_curve(y_test, y_pred, pos_label=1)\n",
        "    plt.plot(fpr, tpr, color='red', lw=2)\n",
        "    plt.plot([0, 1], [0, 1], color='navy', lw=1, linestyle='--')\n",
        "    plt.xlabel('False Positive Rate')\n",
        "    plt.ylabel('True Positive Rate')\n",
        "    plt.title(f'ROC Curve: {model_name}')    \n",
        "    plt.show()\n",
        "    \n"
      ],
      "execution_count": null,
      "outputs": []
    },
    {
      "cell_type": "code",
      "metadata": {
        "id": "SgTuFoJnsgtg"
      },
      "source": [
        "from sklearn import metrics\n",
        "\n",
        "from sklearn.neural_network import MLPClassifier, MLPRegressor\n",
        "from sklearn.tree import DecisionTreeClassifier\n",
        "from sklearn.svm import SVC, SVR"
      ],
      "execution_count": null,
      "outputs": []
    },
    {
      "cell_type": "code",
      "metadata": {
        "id": "bA5gyMsEuMKs"
      },
      "source": [
        "models = [MLPClassifier(), DecisionTreeClassifier(), SVC()]"
      ],
      "execution_count": null,
      "outputs": []
    },
    {
      "cell_type": "code",
      "metadata": {
        "colab": {
          "base_uri": "https://localhost:8080/",
          "height": 851
        },
        "id": "XFub04TQrlbu",
        "outputId": "5e90a546-9cfe-4a09-d343-003c253f7dbe"
      },
      "source": [
        "performance = {}\n",
        "\n",
        "for model in models:\n",
        "  performance = run_model(performance, model, X_train_res, X_test, Y_train_res, y_test)\n"
      ],
      "execution_count": null,
      "outputs": [
        {
          "output_type": "display_data",
          "data": {
            "image/png": "[encoded data removed]",
            "text/plain": [
              "<Figure size 432x288 with 1 Axes>"
            ]
          },
          "metadata": {
            "needs_background": "light"
          }
        },
        {
          "output_type": "display_data",
          "data": {
            "image/png": "[encoded data removed]",
            "text/plain": [
              "<Figure size 432x288 with 1 Axes>"
            ]
          },
          "metadata": {
            "needs_background": "light"
          }
        },
        {
          "output_type": "display_data",
          "data": {
            "image/png": "[encoded data removed]",
            "text/plain": [
              "<Figure size 432x288 with 1 Axes>"
            ]
          },
          "metadata": {
            "needs_background": "light"
          }
        }
      ]
    },
    {
      "cell_type": "code",
      "metadata": {
        "id": "4A6cwHKXvgMY"
      },
      "source": [
        "table = pd.DataFrame(performance)"
      ],
      "execution_count": null,
      "outputs": []
    },
    {
      "cell_type": "code",
      "metadata": {
        "colab": {
          "base_uri": "https://localhost:8080/",
          "height": 174
        },
        "id": "7exnIti0vr9q",
        "outputId": "8f249292-00c1-4800-91b4-d5c0a9443acf"
      },
      "source": [
        "table"
      ],
      "execution_count": null,
      "outputs": [
        {
          "output_type": "execute_result",
          "data": {
            "text/html": [
              "<div>\n",
              "<style scoped>\n",
              "    .dataframe tbody tr th:only-of-type {\n",
              "        vertical-align: middle;\n",
              "    }\n",
              "\n",
              "    .dataframe tbody tr th {\n",
              "        vertical-align: top;\n",
              "    }\n",
              "\n",
              "    .dataframe thead th {\n",
              "        text-align: right;\n",
              "    }\n",
              "</style>\n",
              "<table border=\"1\" class=\"dataframe\">\n",
              "  <thead>\n",
              "    <tr style=\"text-align: right;\">\n",
              "      <th></th>\n",
              "      <th>MLPClassifier</th>\n",
              "      <th>DecisionTreeClassifier</th>\n",
              "      <th>SVC</th>\n",
              "    </tr>\n",
              "  </thead>\n",
              "  <tbody>\n",
              "    <tr>\n",
              "      <th>accuracy</th>\n",
              "      <td>0.781705</td>\n",
              "      <td>0.779626</td>\n",
              "      <td>0.681913</td>\n",
              "    </tr>\n",
              "    <tr>\n",
              "      <th>precision</th>\n",
              "      <td>0.301075</td>\n",
              "      <td>0.302083</td>\n",
              "      <td>0.218543</td>\n",
              "    </tr>\n",
              "    <tr>\n",
              "      <th>recall</th>\n",
              "      <td>0.411765</td>\n",
              "      <td>0.426471</td>\n",
              "      <td>0.485294</td>\n",
              "    </tr>\n",
              "    <tr>\n",
              "      <th>f1</th>\n",
              "      <td>0.347826</td>\n",
              "      <td>0.353659</td>\n",
              "      <td>0.301370</td>\n",
              "    </tr>\n",
              "  </tbody>\n",
              "</table>\n",
              "</div>"
            ],
            "text/plain": [
              "           MLPClassifier  DecisionTreeClassifier       SVC\n",
              "accuracy        0.781705                0.779626  0.681913\n",
              "precision       0.301075                0.302083  0.218543\n",
              "recall          0.411765                0.426471  0.485294\n",
              "f1              0.347826                0.353659  0.301370"
            ]
          },
          "metadata": {},
          "execution_count": 75
        }
      ]
    }
  ]
}