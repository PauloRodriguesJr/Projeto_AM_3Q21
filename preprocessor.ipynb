{
 "cells": [
  {
   "cell_type": "code",
   "execution_count": 368,
   "metadata": {},
   "outputs": [],
   "source": [
    "import numpy as np\n",
    "import pandas as pd\n",
    "from copy import deepcopy           # Necessário para copiar os dados dentro de funções e evitar alterações inplace dos dados\n",
    "                                    # Isso para que as funções recebam um dado e gerem um dado novo, mantendo o original inalterado.\n",
    "import matplotlib.pyplot as plt\n",
    "import seaborn as sns\n",
    "\n",
    "from sklearn.preprocessing import OneHotEncoder\n",
    "from sklearn.model_selection import train_test_split\n",
    "from sklearn import svm\n",
    "\n",
    "from imblearn.over_sampling import SMOTE, SMOTENC\n",
    "from imblearn.pipeline import Pipeline\n",
    "from imblearn.under_sampling import RandomUnderSampler\n",
    "\n",
    "\n",
    "\n",
    "\n",
    "# TODO: converter para um arquivo requirements.txt \n",
    "# !pip install -U imbalanced-learn\n",
    "# !pip install pandas\n",
    "# !pip install numpy\n",
    "# !pip install -U scikit-learn\n",
    "# !pip install seaborn"
   ]
  },
  {
   "cell_type": "code",
   "execution_count": 369,
   "metadata": {},
   "outputs": [],
   "source": [
    "DATA_PATH = 'dados/dados_treino.csv'\n",
    "\n",
    "raw_data = pd.read_csv(DATA_PATH)"
   ]
  },
  {
   "cell_type": "code",
   "execution_count": 370,
   "metadata": {},
   "outputs": [
    {
     "name": "stdout",
     "output_type": "stream",
     "text": [
      "<class 'pandas.core.frame.DataFrame'>\n",
      "RangeIndex: 4975 entries, 0 to 4974\n",
      "Data columns (total 20 columns):\n",
      " #   Column                          Non-Null Count  Dtype  \n",
      "---  ------                          --------------  -----  \n",
      " 0   bateria                         4975 non-null   object \n",
      " 1   Tem_Instr_Violao_Viola          4975 non-null   bool   \n",
      " 2   Tem_Instr_Guitarra              4975 non-null   bool   \n",
      " 3   Tem_Instr_Cavaco                4975 non-null   bool   \n",
      " 4   Tem_Instr_Sintetizador_Teclado  4975 non-null   bool   \n",
      " 5   Tem_Instr_Piano                 4975 non-null   bool   \n",
      " 6   Tem_Instr_Metais                4975 non-null   bool   \n",
      " 7   Tem_Instr_Madeiras              4975 non-null   bool   \n",
      " 8   Tem_Instr_Cordas                4975 non-null   bool   \n",
      " 9   BPM                             4975 non-null   float64\n",
      " 10  VolMedio                        4975 non-null   float64\n",
      " 11  PctCantada                      4975 non-null   float64\n",
      " 12  PctRap                          4975 non-null   float64\n",
      " 13  duracao                         4975 non-null   int64  \n",
      " 14  ano_lancamento                  4975 non-null   int64  \n",
      " 15  modo                            4542 non-null   object \n",
      " 16  gostou                          4975 non-null   bool   \n",
      " 17  data_curtida                    4975 non-null   object \n",
      " 18  n_reproducao                    4975 non-null   int64  \n",
      " 19  id_cliente                      4975 non-null   object \n",
      "dtypes: bool(9), float64(4), int64(3), object(4)\n",
      "memory usage: 471.4+ KB\n"
     ]
    }
   ],
   "source": [
    "raw_data.info()    # Informaçãões gerais do dataset. Permite ver se há valores NULL."
   ]
  },
  {
   "cell_type": "code",
   "execution_count": 371,
   "metadata": {},
   "outputs": [
    {
     "name": "stdout",
     "output_type": "stream",
     "text": [
      "<class 'pandas.core.frame.DataFrame'>\n",
      "Int64Index: 4975 entries, 0 to 4974\n",
      "Data columns (total 20 columns):\n",
      " #   Column                          Non-Null Count  Dtype  \n",
      "---  ------                          --------------  -----  \n",
      " 0   bateria                         4975 non-null   object \n",
      " 1   Tem_Instr_Violao_Viola          4975 non-null   bool   \n",
      " 2   Tem_Instr_Guitarra              4975 non-null   bool   \n",
      " 3   Tem_Instr_Cavaco                4975 non-null   bool   \n",
      " 4   Tem_Instr_Sintetizador_Teclado  4975 non-null   bool   \n",
      " 5   Tem_Instr_Piano                 4975 non-null   bool   \n",
      " 6   Tem_Instr_Metais                4975 non-null   bool   \n",
      " 7   Tem_Instr_Madeiras              4975 non-null   bool   \n",
      " 8   Tem_Instr_Cordas                4975 non-null   bool   \n",
      " 9   BPM                             4975 non-null   float64\n",
      " 10  VolMedio                        4975 non-null   float64\n",
      " 11  PctCantada                      4975 non-null   float64\n",
      " 12  PctRap                          4975 non-null   float64\n",
      " 13  duracao                         4975 non-null   int64  \n",
      " 14  ano_lancamento                  4975 non-null   int64  \n",
      " 15  modo                            4542 non-null   object \n",
      " 16  gostou                          4975 non-null   bool   \n",
      " 17  data_curtida                    4975 non-null   object \n",
      " 18  n_reproducao                    4975 non-null   int64  \n",
      " 19  id_cliente                      4975 non-null   object \n",
      "dtypes: bool(9), float64(4), int64(3), object(4)\n",
      "memory usage: 510.1+ KB\n"
     ]
    }
   ],
   "source": [
    "raw_data.drop_duplicates().info()"
   ]
  },
  {
   "cell_type": "code",
   "execution_count": 372,
   "metadata": {},
   "outputs": [
    {
     "data": {
      "text/html": [
       "<div>\n",
       "<style scoped>\n",
       "    .dataframe tbody tr th:only-of-type {\n",
       "        vertical-align: middle;\n",
       "    }\n",
       "\n",
       "    .dataframe tbody tr th {\n",
       "        vertical-align: top;\n",
       "    }\n",
       "\n",
       "    .dataframe thead th {\n",
       "        text-align: right;\n",
       "    }\n",
       "</style>\n",
       "<table border=\"1\" class=\"dataframe\">\n",
       "  <thead>\n",
       "    <tr style=\"text-align: right;\">\n",
       "      <th></th>\n",
       "      <th>bateria</th>\n",
       "      <th>Tem_Instr_Violao_Viola</th>\n",
       "      <th>Tem_Instr_Guitarra</th>\n",
       "      <th>Tem_Instr_Cavaco</th>\n",
       "      <th>Tem_Instr_Sintetizador_Teclado</th>\n",
       "      <th>Tem_Instr_Piano</th>\n",
       "      <th>Tem_Instr_Metais</th>\n",
       "      <th>Tem_Instr_Madeiras</th>\n",
       "      <th>Tem_Instr_Cordas</th>\n",
       "      <th>BPM</th>\n",
       "      <th>VolMedio</th>\n",
       "      <th>PctCantada</th>\n",
       "      <th>PctRap</th>\n",
       "      <th>duracao</th>\n",
       "      <th>ano_lancamento</th>\n",
       "      <th>modo</th>\n",
       "      <th>gostou</th>\n",
       "      <th>data_curtida</th>\n",
       "      <th>n_reproducao</th>\n",
       "      <th>id_cliente</th>\n",
       "    </tr>\n",
       "  </thead>\n",
       "  <tbody>\n",
       "    <tr>\n",
       "      <th>0</th>\n",
       "      <td>Acústica</td>\n",
       "      <td>False</td>\n",
       "      <td>True</td>\n",
       "      <td>False</td>\n",
       "      <td>False</td>\n",
       "      <td>True</td>\n",
       "      <td>False</td>\n",
       "      <td>False</td>\n",
       "      <td>False</td>\n",
       "      <td>128.652946</td>\n",
       "      <td>-8.743969</td>\n",
       "      <td>38.671394</td>\n",
       "      <td>0.0</td>\n",
       "      <td>680510</td>\n",
       "      <td>1977</td>\n",
       "      <td>NaN</td>\n",
       "      <td>False</td>\n",
       "      <td>2021-07-29</td>\n",
       "      <td>5</td>\n",
       "      <td>#ID4940</td>\n",
       "    </tr>\n",
       "    <tr>\n",
       "      <th>1</th>\n",
       "      <td>Acústica</td>\n",
       "      <td>True</td>\n",
       "      <td>False</td>\n",
       "      <td>True</td>\n",
       "      <td>False</td>\n",
       "      <td>False</td>\n",
       "      <td>False</td>\n",
       "      <td>False</td>\n",
       "      <td>False</td>\n",
       "      <td>107.679121</td>\n",
       "      <td>-12.128194</td>\n",
       "      <td>75.739791</td>\n",
       "      <td>0.0</td>\n",
       "      <td>195746</td>\n",
       "      <td>2014</td>\n",
       "      <td>f</td>\n",
       "      <td>False</td>\n",
       "      <td>2021-07-29</td>\n",
       "      <td>5</td>\n",
       "      <td>#ID4940</td>\n",
       "    </tr>\n",
       "    <tr>\n",
       "      <th>2</th>\n",
       "      <td>Nenhuma</td>\n",
       "      <td>False</td>\n",
       "      <td>True</td>\n",
       "      <td>False</td>\n",
       "      <td>False</td>\n",
       "      <td>True</td>\n",
       "      <td>True</td>\n",
       "      <td>False</td>\n",
       "      <td>False</td>\n",
       "      <td>117.885751</td>\n",
       "      <td>-10.880246</td>\n",
       "      <td>35.978128</td>\n",
       "      <td>0.0</td>\n",
       "      <td>413618</td>\n",
       "      <td>1968</td>\n",
       "      <td>D#</td>\n",
       "      <td>False</td>\n",
       "      <td>2021-07-29</td>\n",
       "      <td>4</td>\n",
       "      <td>#ID4940</td>\n",
       "    </tr>\n",
       "    <tr>\n",
       "      <th>3</th>\n",
       "      <td>Acústica</td>\n",
       "      <td>False</td>\n",
       "      <td>True</td>\n",
       "      <td>False</td>\n",
       "      <td>False</td>\n",
       "      <td>True</td>\n",
       "      <td>True</td>\n",
       "      <td>True</td>\n",
       "      <td>False</td>\n",
       "      <td>119.309408</td>\n",
       "      <td>-12.489925</td>\n",
       "      <td>45.763376</td>\n",
       "      <td>0.0</td>\n",
       "      <td>749101</td>\n",
       "      <td>1963</td>\n",
       "      <td>D#</td>\n",
       "      <td>True</td>\n",
       "      <td>2021-07-29</td>\n",
       "      <td>3</td>\n",
       "      <td>#ID4940</td>\n",
       "    </tr>\n",
       "    <tr>\n",
       "      <th>4</th>\n",
       "      <td>Eletrônica</td>\n",
       "      <td>False</td>\n",
       "      <td>False</td>\n",
       "      <td>False</td>\n",
       "      <td>True</td>\n",
       "      <td>True</td>\n",
       "      <td>False</td>\n",
       "      <td>False</td>\n",
       "      <td>False</td>\n",
       "      <td>153.488568</td>\n",
       "      <td>-6.412484</td>\n",
       "      <td>58.979747</td>\n",
       "      <td>0.0</td>\n",
       "      <td>168978</td>\n",
       "      <td>2020</td>\n",
       "      <td>c</td>\n",
       "      <td>False</td>\n",
       "      <td>2021-07-29</td>\n",
       "      <td>2</td>\n",
       "      <td>#ID4940</td>\n",
       "    </tr>\n",
       "  </tbody>\n",
       "</table>\n",
       "</div>"
      ],
      "text/plain": [
       "      bateria  Tem_Instr_Violao_Viola  Tem_Instr_Guitarra  Tem_Instr_Cavaco  \\\n",
       "0    Acústica                   False                True             False   \n",
       "1    Acústica                    True               False              True   \n",
       "2     Nenhuma                   False                True             False   \n",
       "3    Acústica                   False                True             False   \n",
       "4  Eletrônica                   False               False             False   \n",
       "\n",
       "   Tem_Instr_Sintetizador_Teclado  Tem_Instr_Piano  Tem_Instr_Metais  \\\n",
       "0                           False             True             False   \n",
       "1                           False            False             False   \n",
       "2                           False             True              True   \n",
       "3                           False             True              True   \n",
       "4                            True             True             False   \n",
       "\n",
       "   Tem_Instr_Madeiras  Tem_Instr_Cordas         BPM   VolMedio  PctCantada  \\\n",
       "0               False             False  128.652946  -8.743969   38.671394   \n",
       "1               False             False  107.679121 -12.128194   75.739791   \n",
       "2               False             False  117.885751 -10.880246   35.978128   \n",
       "3                True             False  119.309408 -12.489925   45.763376   \n",
       "4               False             False  153.488568  -6.412484   58.979747   \n",
       "\n",
       "   PctRap  duracao  ano_lancamento modo  gostou data_curtida  n_reproducao  \\\n",
       "0     0.0   680510            1977  NaN   False   2021-07-29             5   \n",
       "1     0.0   195746            2014    f   False   2021-07-29             5   \n",
       "2     0.0   413618            1968   D#   False   2021-07-29             4   \n",
       "3     0.0   749101            1963   D#    True   2021-07-29             3   \n",
       "4     0.0   168978            2020    c   False   2021-07-29             2   \n",
       "\n",
       "  id_cliente  \n",
       "0    #ID4940  \n",
       "1    #ID4940  \n",
       "2    #ID4940  \n",
       "3    #ID4940  \n",
       "4    #ID4940  "
      ]
     },
     "execution_count": 372,
     "metadata": {},
     "output_type": "execute_result"
    }
   ],
   "source": [
    "raw_data.head()"
   ]
  },
  {
   "cell_type": "code",
   "execution_count": 373,
   "metadata": {},
   "outputs": [
    {
     "name": "stdout",
     "output_type": "stream",
     "text": [
      "<class 'numpy.ndarray'>\n"
     ]
    }
   ],
   "source": [
    "print(type(X))"
   ]
  },
  {
   "cell_type": "code",
   "execution_count": 377,
   "metadata": {},
   "outputs": [],
   "source": [
    "columns = ['Tem_Instr_Violao_Viola', 'Tem_Instr_Guitarra', 'Tem_Instr_Cavaco', \n",
    "           'Tem_Instr_Sintetizador_Teclado', 'Tem_Instr_Piano', 'Tem_Instr_Metais', \n",
    "           'Tem_Instr_Madeiras', 'Tem_Instr_Cordas', 'c' ,'K' ,'c#','C' ,'C#','d' ,'d#','D' ,'D#','e' ,'E' ,'f' ,'f#','F' ,'F#','g' ,'g#','G' ,'G#','a' ,'a#','A' ,'A#','B' ,'b'] "
   ]
  },
  {
   "cell_type": "code",
   "execution_count": 378,
   "metadata": {},
   "outputs": [],
   "source": [
    "# métodos já implementados\n",
    "def bool_to_int(dataframe: pd.DataFrame) -> pd.DataFrame:\n",
    "    '''\n",
    "    \n",
    "    Converte as colunas do tipo bool para o tipo int (0 e 1).\n",
    "    \n",
    "    '''\n",
    "    columns = ['Tem_Instr_Violao_Viola', 'Tem_Instr_Guitarra', 'Tem_Instr_Cavaco', \n",
    "               'Tem_Instr_Sintetizador_Teclado', 'Tem_Instr_Piano', 'Tem_Instr_Metais', \n",
    "               'Tem_Instr_Madeiras', 'Tem_Instr_Cordas', 'gostou']                      # Adicionar as colunas da bateria aqui depois\n",
    "    new_df = deepcopy(dataframe)\n",
    "    \n",
    "    for col in columns:\n",
    "        new_df[col] = new_df[col].astype(int)\n",
    "        \n",
    "    return new_df\n",
    "\n",
    "def bateria_to_bool(dataframe: pd.DataFrame) -> pd.DataFrame:\n",
    "    '''\n",
    "    \n",
    "    Transforma a coluna bateria para ser representada por binários\n",
    "    Essa função pode ser modificada para processar a coluna bateria de formas distintas.\n",
    "    \n",
    "    '''\n",
    "    new_df = deepcopy(dataframe)\n",
    "    new_df['bateria_eletronica'] = (new_df['bateria'] == 'Eletrônica').astype(int)\n",
    "    new_df['bateria_acustica']   = (new_df['bateria'] == 'Acústica').astype(int)\n",
    "    new_df['bateria_nenhuma']     = (new_df['bateria'] == 'Nenhuma').astype(int)\n",
    "    new_df = new_df.drop(columns = ['bateria'])\n",
    "    return new_df\n",
    "\n",
    "def get_user_data(USER: str, raw_data: pd.DataFrame) -> pd.DataFrame:\n",
    "    user_data = raw_data[raw_data['id_cliente'] == USER]\n",
    "    user_data = bool_to_int(user_data)\n",
    "    user_data = bateria_to_bool(user_data)\n",
    "    user_data['modo'] = user_data['modo'].fillna(\"K\")\n",
    "    \n",
    "    return user_data\n",
    "\n",
    "# métodos da analise exploratoria"
   ]
  },
  {
   "cell_type": "code",
   "execution_count": 379,
   "metadata": {},
   "outputs": [],
   "source": [
    "def scale_to_bool(scale):\n",
    "    string = {\n",
    "        'K'  : 1,\n",
    "        'c'  : 0,\n",
    "        'c#' : 0, \n",
    "        'C'  : 1,\n",
    "        'C#' : 1,\n",
    "        'd'  : 0,\n",
    "        'd#' : 0,\n",
    "        'D'  : 1,\n",
    "        'D#' : 1,\n",
    "        'e'  : 0,\n",
    "        'E'  : 1,\n",
    "        'f'  : 0,\n",
    "        'f#' : 0,\n",
    "        'F'  : 1,\n",
    "        'F#' : 1,\n",
    "        'g'  : 0,\n",
    "        'g#' : 0,\n",
    "        'G'  : 1,\n",
    "        'G#' : 1,\n",
    "        'a'  : 0,\n",
    "        'a#' : 0,\n",
    "        'A'  : 1,\n",
    "        'A#' : 1,\n",
    "        'b'  : 0,\n",
    "        'B'  : 1\n",
    "    }[scale]\n",
    "    return string"
   ]
  },
  {
   "cell_type": "code",
   "execution_count": 380,
   "metadata": {},
   "outputs": [],
   "source": [
    "# One hot encoding the mode feature data:\n",
    "\n",
    "def scale_to_one_hot(raw_data: pd.DataFrame):\n",
    "    new_df = deepcopy(raw_data)\n",
    "    mode_df = pd.get_dummies(new_df[\"modo\"])\n",
    "    new_df = new_df.drop(columns = ['modo'])\n",
    "    # new_df.merge(mode_df,how='left', on='duracao')\n",
    "    #  Place the DataFrames side by side\n",
    "    new_df = pd.concat([new_df,mode_df], axis=1)\n",
    "    return new_df"
   ]
  },
  {
   "cell_type": "code",
   "execution_count": 381,
   "metadata": {},
   "outputs": [
    {
     "name": "stdout",
     "output_type": "stream",
     "text": [
      "      Tem_Instr_Violao_Viola  Tem_Instr_Guitarra  Tem_Instr_Cavaco  \\\n",
      "0                          0                   1                 0   \n",
      "1                          1                   0                 1   \n",
      "2                          0                   1                 0   \n",
      "3                          0                   1                 0   \n",
      "4                          0                   0                 0   \n",
      "...                      ...                 ...               ...   \n",
      "4970                       1                   0                 0   \n",
      "4971                       1                   0                 1   \n",
      "4972                       0                   0                 0   \n",
      "4973                       1                   1                 0   \n",
      "4974                       0                   0                 0   \n",
      "\n",
      "      Tem_Instr_Sintetizador_Teclado  Tem_Instr_Piano  Tem_Instr_Metais  \\\n",
      "0                                  0                1                 0   \n",
      "1                                  0                0                 0   \n",
      "2                                  0                1                 1   \n",
      "3                                  0                1                 1   \n",
      "4                                  1                1                 0   \n",
      "...                              ...              ...               ...   \n",
      "4970                               0                0                 0   \n",
      "4971                               1                0                 0   \n",
      "4972                               1                0                 1   \n",
      "4973                               0                1                 0   \n",
      "4974                               1                0                 0   \n",
      "\n",
      "      Tem_Instr_Madeiras  Tem_Instr_Cordas         BPM   VolMedio  ...  b  c  \\\n",
      "0                      0                 0  128.652946   8.743969  ...  0  0   \n",
      "1                      0                 0  107.679121  12.128194  ...  0  0   \n",
      "2                      0                 0  117.885751  10.880246  ...  0  0   \n",
      "3                      1                 0  119.309408  12.489925  ...  0  0   \n",
      "4                      0                 0  153.488568   6.412484  ...  0  1   \n",
      "...                  ...               ...         ...        ...  ... .. ..   \n",
      "4970                   0                 0   75.647653   7.134472  ...  0  0   \n",
      "4971                   0                 0   70.424589  13.721616  ...  0  0   \n",
      "4972                   0                 0   82.829778   7.971384  ...  0  0   \n",
      "4973                   0                 0  115.032259   7.477331  ...  0  0   \n",
      "4974                   0                 0  104.474571   7.129283  ...  1  0   \n",
      "\n",
      "      c#  d  d#  e  f f#  g  g#  \n",
      "0      0  0   0  0  0  0  0   0  \n",
      "1      0  0   0  0  1  0  0   0  \n",
      "2      0  0   0  0  0  0  0   0  \n",
      "3      0  0   0  0  0  0  0   0  \n",
      "4      0  0   0  0  0  0  0   0  \n",
      "...   .. ..  .. .. .. .. ..  ..  \n",
      "4970   0  0   0  0  0  0  0   0  \n",
      "4971   1  0   0  0  0  0  0   0  \n",
      "4972   0  0   0  0  0  0  0   0  \n",
      "4973   0  0   0  0  0  0  0   0  \n",
      "4974   0  0   0  0  0  0  0   0  \n",
      "\n",
      "[4975 rows x 46 columns]\n"
     ]
    }
   ],
   "source": [
    "raw_data = pd.read_csv(DATA_PATH)\n",
    "raw_data['PctCantada'] = raw_data['PctCantada'] / 100\n",
    "raw_data['PctRap'] = raw_data['PctRap'] / 100\n",
    "raw_data['duracao'] = raw_data['duracao'] / (60*1000)\n",
    "raw_data['VolMedio'] = raw_data['VolMedio'].abs()\n",
    "raw_data['duracao']  = raw_data['duracao'].abs()\n",
    "raw_data['modo'] = raw_data['modo'].fillna('K')\n",
    "# raw_data['escala_maior'] = raw_data['modo'].apply((lambda mode: scale_to_bool(mode)))\n",
    "# raw_data['modo'] = raw_data['modo'].apply((lambda mode: scale_to_bool(mode)))\n",
    "raw_data = bool_to_int(raw_data)\n",
    "raw_data = bateria_to_bool(raw_data)\n",
    "\n",
    "raw_data = scale_to_one_hot(raw_data) # Não gostei muito da solução, mas até faz sentido\n",
    "print(raw_data)"
   ]
  },
  {
   "cell_type": "code",
   "execution_count": 382,
   "metadata": {},
   "outputs": [],
   "source": [
    "USER = '#ID9181'\n",
    "# USER = '#ID4940'\n",
    "\n",
    "user_data = raw_data[raw_data['id_cliente'] == USER]"
   ]
  },
  {
   "cell_type": "code",
   "execution_count": 383,
   "metadata": {},
   "outputs": [
    {
     "name": "stdout",
     "output_type": "stream",
     "text": [
      "(2403,)\n",
      "(2403, 43)\n"
     ]
    }
   ],
   "source": [
    "input_data = user_data.drop(columns = [\"data_curtida\", \"id_cliente\"])[user_data['id_cliente'] == USER]\n",
    "# X = (.to_numpy()\n",
    "X = input_data.drop(columns = [\"gostou\"]).to_numpy()\n",
    "Y = input_data[\"gostou\"].to_numpy()\n",
    "Y = Y.ravel()\n",
    "print(Y.shape)\n",
    "print(X.shape)"
   ]
  },
  {
   "cell_type": "code",
   "execution_count": 384,
   "metadata": {},
   "outputs": [],
   "source": [
    "from sklearn.model_selection import train_test_split\n",
    "from sklearn import svm\n",
    "X_train, X_test, y_train, y_test = train_test_split(X, Y, test_size=0.2,random_state=109) # 70% training and 30% testv"
   ]
  },
  {
   "cell_type": "code",
   "execution_count": 385,
   "metadata": {},
   "outputs": [
    {
     "name": "stdout",
     "output_type": "stream",
     "text": [
      "Positive examples: 1635\n",
      "Negative examples: 1635\n"
     ]
    }
   ],
   "source": [
    "# Teste do SMOTE\n",
    "# sm = SMOTE(random_state=42)\n",
    "# X_train_res, Y_train_res = sm.fit_resample(X_train, y_train)\n",
    "\n",
    "from imblearn.pipeline import Pipeline\n",
    "from imblearn.under_sampling import RandomUnderSampler\n",
    "\n",
    "a = np.arange(0,8)\n",
    "b = np.array([11])\n",
    "c = np.arange(15,43)\n",
    "categorical_index = np.concatenate([a,c])\n",
    "categorical_index = np.concatenate([categorical_index,b])\n",
    "categorical_index = list(categorical_index)\n",
    "\n",
    "# Teste SMOTE-NC\n",
    "smote_nc_over = SMOTENC(categorical_features=categorical_index, random_state=0)\n",
    "\n",
    "under = RandomUnderSampler(sampling_strategy='majority',random_state=0)\n",
    "\n",
    "steps = [('o', smote_nc_over), ('u', under)]\n",
    "pipeline = Pipeline(steps=steps)\n",
    "\n",
    "X_train_res, Y_train_res = pipeline.fit_resample(X_train, y_train)\n",
    "\n",
    "# X_train_res, Y_train_res = smote_nc_over.fit_resample(X_train, y_train)\n",
    "\n",
    "# Checar se o dataset ficou balanceado\n",
    "count_plus = 0\n",
    "count_minus = 0\n",
    "\n",
    "for y_val in Y_train_res:\n",
    "    \n",
    "    if y_val == 1:\n",
    "         count_plus +=1\n",
    "    else: \n",
    "         count_minus +=1\n",
    "print(\"Positive examples:\",count_plus)\n",
    "print(\"Negative examples:\",count_minus)\n",
    "\n"
   ]
  },
  {
   "cell_type": "markdown",
   "metadata": {},
   "source": [
    "## Testando um classificador para ver se a estrutura do dataset ficou correta"
   ]
  },
  {
   "cell_type": "code",
   "execution_count": 386,
   "metadata": {},
   "outputs": [],
   "source": [
    "clf = svm.SVC(kernel='linear') # Linear Kernel\n",
    "# clf.fit(X_train, y_train) # Sem SMOTE\n",
    "clf.fit(X_train_res, Y_train_res)  # Com SMOTE\n",
    "\n",
    "y_pred = clf.predict(X_test)\n"
   ]
  },
  {
   "cell_type": "code",
   "execution_count": null,
   "metadata": {},
   "outputs": [],
   "source": []
  },
  {
   "cell_type": "code",
   "execution_count": 387,
   "metadata": {},
   "outputs": [
    {
     "name": "stdout",
     "output_type": "stream",
     "text": [
      "Accuracy: 0.83991683991684\n",
      "Precision: 0.38461538461538464\n",
      "Recall: 0.22058823529411764\n"
     ]
    }
   ],
   "source": [
    "from sklearn import metrics\n",
    "# Model Accuracy: how often is the classifier correct?\n",
    "print(\"Accuracy:\",metrics.accuracy_score(y_test, y_pred))\n",
    "\n",
    "print(\"Precision:\",metrics.precision_score(y_test, y_pred))\n",
    "\n",
    "# Model Recall: what percentage of positive tuples are labelled as such?\n",
    "print(\"Recall:\",metrics.recall_score(y_test, y_pred))"
   ]
  },
  {
   "cell_type": "markdown",
   "metadata": {},
   "source": [
    "## TODO: plotar curva ROC e acurácia para comparar os resultados "
   ]
  },
  {
   "cell_type": "code",
   "execution_count": 388,
   "metadata": {},
   "outputs": [
    {
     "data": {
      "text/plain": [
       "0    1712\n",
       "1     860\n",
       "Name: gostou, dtype: int64"
      ]
     },
     "execution_count": 388,
     "metadata": {},
     "output_type": "execute_result"
    }
   ],
   "source": [
    "raw_data[raw_data['id_cliente'] == '#ID4940']['gostou'].value_counts()        # Verificar se o dataset está desbalanceado."
   ]
  }
 ],
 "metadata": {
  "interpreter": {
   "hash": "d0f1ad4aa6fa1ca587eece29080af495b3eac88b2a6e3610cf30cdcc420705c5"
  },
  "kernelspec": {
   "display_name": "Python 3.7.10 64-bit ('ml': conda)",
   "name": "python3"
  },
  "language_info": {
   "codemirror_mode": {
    "name": "ipython",
    "version": 3
   },
   "file_extension": ".py",
   "mimetype": "text/x-python",
   "name": "python",
   "nbconvert_exporter": "python",
   "pygments_lexer": "ipython3",
   "version": "3.7.10"
  },
  "orig_nbformat": 4
 },
 "nbformat": 4,
 "nbformat_minor": 2
}
